{
 "cells": [
  {
   "cell_type": "markdown",
   "metadata": {},
   "source": [
    "# Off-Platform Project: Coded Correspondence\n",
    "\n",
    "You and your pen pal, Vishal, have been exchanging letters for some time now. Recently, he has become interested in cryptography and the two of you have started sending encoded messages within your letters.\n",
    "\n",
    "In this project, you will use your Python skills to decipher the messages you receive and to encode your own responses! Put your programming skills to the test with these fun cryptography puzzles. Here is his most recent letter:\n",
    "\n",
    "    Hey there! How have you been? I've been great! I just learned about this really cool type of cipher called a Caesar Cipher. Here's how it works: You take your message, something like \"hello\" and then you shift all of the letters by a certain offset. \n",
    "\n",
    "    For example, if I chose an offset of 3 and a message of \"hello\", I would encode my message by shifting each letter 3 places to the left with respect to the alphabet. So \"h\" becomes \"e\", \"e\" becomes \"b\", \"l\" becomes \"i\", and \"o\" becomes \"l\". Then I have my encoded message, \"ebiil\"! Now I can send you my message and the offset and you can decode it by shifting each letter 3 places to the right. The best thing is that Julius Caesar himself used this cipher, that's why it's called the Caesar Cipher! Isn't that so cool! Okay, now I'm going to send you a longer encoded message that you have to decode yourself!\n",
    "    \n",
    "        xuo jxuhu! jxyi yi qd unqcfbu ev q squiqh syfxuh. muhu oek qrbu je tusetu yj? y xefu ie! iudt cu q cuiiqwu rqsa myjx jxu iqcu evviuj!\n",
    "    \n",
    "    This message has an offset of 10. Can you decode it?\n",
    "    \n",
    "\n",
    "#### Step 1: Decode Vishal's Message\n",
    "In the cell below, use your Python skills to decode Vishal's message and print the result."
   ]
  },
  {
   "cell_type": "markdown",
   "metadata": {},
   "source": [
    "Stuck? Open this cell to view Hints: \n",
    "\n",
    "<span hidden>\n",
    "You can account for shifts that go past the end of the alphabet using the modulus operator, but I'll let you figure out how!\n",
    "\n",
    "Watch out for spaces and punctuation! Your code should only shift characters that are in the alphabet.\n",
    "\n",
    "You'll want to find a way to represent the letters of the alphabet as numbers, where `a = 0`, `b = 1`, etc. Remember, the characters of a string can be accessed with integer indices.\n",
    "</span>"
   ]
  },
  {
   "cell_type": "code",
   "execution_count": 98,
   "metadata": {},
   "outputs": [],
   "source": [
    "# Create a string with the encrypted message saved to it\n",
    "encrypted_message = 'xuo jxuhu! jxyi yi qd unqcfbu ev q squiqh syfxuh. muhu oek qrbu je tusetu yj? y xefu ie! iudt cu q cuiiqwu rqsa myjx jxu iqcu evviuj!'\n",
    "\n",
    "# Create a list of all the letters in the alphabet, in alphabetical order\n",
    "alphabet = [chr(i) for i in range(97, 123)]\n",
    "\n",
    "# Create a list of exemt characters to not search as part of our decryption process\n",
    "excluded_characters = [' ', '!', '?', '.', ',', '\\'']\n",
    "\n",
    "# Establish a baseline for what a message should look like with some common words\n",
    "baseline_words = ['and', 'the', 'with', 'from', 'for', 'we\\'ll', 'my', 'that', 'you', 'me', 'we', 'us', 'too', 'this', 'them', 'here', 'there', 'now', 'then', 'when', 'how ', 'why', 'what']"
   ]
  },
  {
   "cell_type": "code",
   "execution_count": 99,
   "metadata": {},
   "outputs": [],
   "source": [
    "# Create a decryption function that takes a message, and an offset and returns a decrypted message\n",
    "def caesar_decode(message, offset):\n",
    "    decrypted_message = ''\n",
    "    for letter in message.lower():\n",
    "        if letter in excluded_characters: # If the letter is in the excluded characters list, add it to the decrypted message\n",
    "            decrypted_message += letter\n",
    "        else:\n",
    "            lookup_index = alphabet.index(letter) + offset # Find the index of the letter in the alphabet, and add the offset to it\n",
    "            if lookup_index > len(alphabet) - 1: # If the lookup is greater than the length of the alphabet, start over from the beginning\n",
    "                lookup_index -= len(alphabet)\n",
    "            decrypted_message += alphabet[lookup_index]\n",
    "    return decrypted_message"
   ]
  },
  {
   "cell_type": "code",
   "execution_count": 100,
   "metadata": {},
   "outputs": [
    {
     "name": "stdout",
     "output_type": "stream",
     "text": [
      "hey there! this is an example of a caesar cipher. were you able to decode it? i hope so! send me a message back with the same offset!\n"
     ]
    }
   ],
   "source": [
    "# Run the decryption against our hidden message\n",
    "print(caesar_decode(encrypted_message, 10))"
   ]
  },
  {
   "cell_type": "markdown",
   "metadata": {},
   "source": [
    "#### Step 2: Send Vishal a Coded Message\n",
    "Great job! Now send Vishal back a message using the same offset. Your message can be anything you want! Remember, encoding happens in opposite direction of decoding."
   ]
  },
  {
   "cell_type": "code",
   "execution_count": 101,
   "metadata": {},
   "outputs": [],
   "source": [
    "# Create an encryption function that takes an unencrypted message and an offset and returns an encrypted message\n",
    "def caesar_encode(message, offset):\n",
    "    encrypted_message = ''\n",
    "    for letter in message.lower():\n",
    "        if letter in excluded_characters: # If the letter is in the excluded characters list, add it to the decrypted message\n",
    "            encrypted_message += letter\n",
    "        else:\n",
    "            lookup_index = alphabet.index(letter) - offset # Find the index of the letter in the alphabet, and subtract the offset to it\n",
    "            if lookup_index < 0: # If the lookup index value is less than zero, add it to the length of the alphabet plus one to start over from the end\n",
    "                lookup_index += (len(alphabet))\n",
    "            encrypted_message += alphabet[lookup_index]\n",
    "    return encrypted_message"
   ]
  },
  {
   "cell_type": "code",
   "execution_count": 102,
   "metadata": {},
   "outputs": [
    {
     "name": "stdout",
     "output_type": "stream",
     "text": [
      "whuqj je xuqh vhec oek, rktto! y mqi qrbu je tushofj jxu cuiiqwu oek iudj cu myjx jxu squiqh syfxuh! buj cu adem yv oek sqd te jxu iqcu myjx cydu.\n",
      "great to hear from you, buddy! i was able to decrypt the message you sent me with the caesar cipher! let me know if you can do the same with mine.\n"
     ]
    }
   ],
   "source": [
    "# Create a message to encrypt\n",
    "my_message = \"Great to hear from you, buddy! I was able to decrypt the message you sent me with the Caesar Cipher! Let me know if you can do the same with mine.\"\n",
    "\n",
    "# Print the encrypted message\n",
    "my_message_encrypted = caesar_encode(my_message, 10)\n",
    "print(my_message_encrypted)\n",
    "\n",
    "# Print the same message, decrypted, to check that everything works\n",
    "print(caesar_decode(my_message_encrypted, 10))"
   ]
  },
  {
   "cell_type": "markdown",
   "metadata": {},
   "source": [
    "#### Step 3: Make functions for decoding and coding \n",
    "\n",
    "Vishal sent over another reply, this time with two coded messages!\n",
    "    \n",
    "    You're getting the hang of this! Okay here are two more messages, the first one is coded just like before with an offset of ten, and it contains a hint for decoding the second message!\n",
    "\n",
    "    First message:\n",
    "    \n",
    "        jxu evviuj veh jxu iusedt cuiiqwu yi vekhjuud.\n",
    "        \n",
    "    Second message:\n",
    "    \n",
    "        bqdradyuzs ygxfubxq omqemd oubtqde fa oapq kagd yqeemsqe ue qhqz yadq eqogdq!\n",
    "    \n",
    "Decode both of these messages. \n",
    "\n",
    "If you haven't already, define two functions `caesar_decode(message, offset)` and `caesar_encode(message, offset)` that can be used to quickly decode and encode messages given any offset."
   ]
  },
  {
   "cell_type": "code",
   "execution_count": 103,
   "metadata": {},
   "outputs": [
    {
     "name": "stdout",
     "output_type": "stream",
     "text": [
      "the offset for the second message is fourteen.\n"
     ]
    }
   ],
   "source": [
    "# Decode Vishal's first message\n",
    "first_message = 'jxu evviuj veh jxu iusedt cuiiqwu yi vekhjuud.'\n",
    "print(caesar_decode(first_message, 10))"
   ]
  },
  {
   "cell_type": "code",
   "execution_count": 104,
   "metadata": {},
   "outputs": [
    {
     "name": "stdout",
     "output_type": "stream",
     "text": [
      "performing multiple caesar ciphers to code your messages is even more secure!\n"
     ]
    }
   ],
   "source": [
    "# Decode Vishal's second message, using the hint form the first\n",
    "second_message = 'bqdradyuzs ygxfubxq omqemd oubtqde fa oapq kagd yqeemsqe ue qhqz yadq eqogdq!'\n",
    "print(caesar_decode(second_message, 14))"
   ]
  },
  {
   "cell_type": "markdown",
   "metadata": {},
   "source": [
    "#### Step 4: Solving a Caesar Cipher without knowing the shift value\n",
    "\n",
    "Awesome work! While you were working to decode his last two messages, Vishal sent over another letter! He's really been bitten by the crypto-bug. Read it and see what interesting task he has lined up for you this time.\n",
    "\n",
    "    Hello again friend! I knew you would love the Caesar Cipher, it's a cool, simple way to encrypt messages. Did you know that back in Caesar's time, it was considered a very secure way of communication and it took a lot of effort to crack if you were unaware of the value of the shift? That's all changed with computers! Now we can brute force these kinds of ciphers very quickly, as I'm sure you can imagine.\n",
    "            \n",
    "    To test your cryptography skills, this next coded message is going to be harder than the last couple to crack. It's still going to be coded with a Caesar Cipher but this time I'm not going to tell you the value of the shift. You'll have to brute force it yourself.\n",
    "            \n",
    "    Here's the coded message:\n",
    "            \n",
    "        vhfinmxkl atox kxgwxkxw tee hy maxlx hew vbiaxkl hulhexmx. px'ee atox mh kxteer lmxi ni hnk ztfx by px ptgm mh dxxi hnk fxlltzxl ltyx.\n",
    "            \n",
    "    Good luck!\n",
    "            \n",
    "Decode Vishal's most recent message and see what it says!"
   ]
  },
  {
   "cell_type": "markdown",
   "metadata": {},
   "source": [
    "Stuck? Open this cell to view Hints: \n",
    "\n",
    "<span hidden>\n",
    "Since you don't know the cipher's offset, you'll need to try every possible option until you find the right one. Use a Python statement that will allow you to execute `caesar_decode()` multiple times with different `offset` arguments.\n",
    "</span>"
   ]
  },
  {
   "cell_type": "code",
   "execution_count": 105,
   "metadata": {},
   "outputs": [
    {
     "name": "stdout",
     "output_type": "stream",
     "text": [
      "Offset: 0\n",
      "No offset returned legible message\n",
      "Offset: 1\n",
      "No offset returned legible message\n",
      "Offset: 2\n",
      "No offset returned legible message\n",
      "Offset: 3\n",
      "No offset returned legible message\n",
      "Offset: 4\n",
      "No offset returned legible message\n",
      "Offset: 5\n",
      "No offset returned legible message\n",
      "Offset: 6\n",
      "No offset returned legible message\n",
      "Offset: 7\n",
      "computers have rendered all of these old ciphers obsolete. we'll have to really step up our game if we want to keep our messages safe.\n",
      "Identified word was 'the'.\n",
      "Offset: 7\n"
     ]
    }
   ],
   "source": [
    "# Save Vishal's third message to a variable\n",
    "third_message = \"vhfinmxkl atox kxgwxkxw tee hy maxlx hew vbiaxkl hulhexmx. px'ee atox mh kxteer lmxi ni hnk ztfx by px ptgm mh dxxi hnk fxlltzxl ltyx.\"\n",
    "\n",
    "# Decode Vishal's third message by trying every offset until we get a legible message\n",
    "for i in range(len(alphabet) + 1):\n",
    "    decoded_message = caesar_decode(third_message, i)\n",
    "    print(f\"Offset: {i}\")\n",
    "    if any(' ' + word in decoded_message for word in baseline_words):\n",
    "        identified_word = [word for word in baseline_words if word in decoded_message][0]\n",
    "        print(decoded_message)\n",
    "        print(f\"Identified word was '{identified_word}'.\")\n",
    "        print((f\"Offset: {i}\"))\n",
    "        break\n",
    "    else:\n",
    "        print(\"No offset returned legible message\")"
   ]
  },
  {
   "cell_type": "markdown",
   "metadata": {},
   "source": [
    "#### Step 5: The Vigenère Cipher\n",
    "\n",
    "Great work! While you were working on the brute force cracking of the cipher, Vishal sent over another letter. That guy is a letter machine!\n",
    "\n",
    "    Salutations! As you can see, technology has made brute forcing simple ciphers like the Caesar Cipher extremely easy, and us crypto-enthusiasts have had to get more creative and use more complicated ciphers. This next cipher I'm going to teach you is the Vigenère Cipher, invented by an Italian cryptologist named Giovan Battista Bellaso (cool name eh?) in the 16th century, but named after another cryptologist from the 16th century, Blaise de Vigenère.\n",
    "            \n",
    "    The Vigenère Cipher is a polyalphabetic substitution cipher, as opposed to the Caesar Cipher which was a monoalphabetic substitution cipher. What this means is that opposed to having a single shift that is applied to every letter, the Vigenère Cipher has a different shift for each individual letter. The value of the shift for each letter is determined by a given keyword.\n",
    "           \n",
    "    Consider the message:\n",
    "           \n",
    "        barry is the spy\n",
    "\n",
    "    If we want to code this message, first we choose a keyword. For this example, we'll use the keyword\n",
    "           \n",
    "        dog\n",
    "               \n",
    "    Now we repeat the keyword over and over to generate a keyword phrase that is the same length as the message we want to code. So if we want to code the message \"barry is the spy\" our keyword phrase is \"dogdo gd ogd ogd\". Now we are ready to start coding our message. We shift each letter of our message by the place value of the corresponding letter in the keyword phrase, assuming that \"a\" has a place value of 0, \"b\" has a place value of 1, and so forth.\n",
    "\n",
    "                  message:    b  a  r  r  y    i  s    t  h  e    s  p  y\n",
    "                \n",
    "           keyword phrase:    d  o  g  d  o    g  d    o  g  d    o  g  d\n",
    "                 \n",
    "    resulting place value:    24 12 11 14 10   2  15   5  1  1    4  9  21\n",
    "      \n",
    "    So we shift \"b\", which has an index of 1, by the index of \"d\", which is 3. This gives us an place value of 24, which is \"y\". Remember to loop back around when we reach either end of the alphabet! Then continue the trend: we shift \"a\" by the place value of \"o\", 14, and get \"m\", we shift \"r\" by the place value of \"g\", 15, and get \"l\", shift the next \"r\" by 4 places and get \"o\", and so forth. Once we complete all the shifts we end up with our coded message:\n",
    "            \n",
    "        ymlok cp fbb ejv\n",
    "                \n",
    "    As you can imagine, this is a lot harder to crack without knowing the keyword! So now comes the hard part. I'll give you a message and the keyword, and you'll see if you can figure out how to crack it! Ready? Okay here's my message:\n",
    "            \n",
    "        txm srom vkda gl lzlgzr qpdb? fepb ejac! ubr imn tapludwy mhfbz cza ruxzal wg zztcgcexxch!\n",
    "                \n",
    "    and the keyword to decode my message is \n",
    "            \n",
    "        friends\n",
    "                \n",
    "    Because that's what we are! Good luck friend!\n",
    "           \n",
    "And there it is. Vishal has given you quite the assignment this time! Try to decode his message. It may be helpful to create a function that takes two parameters &mdash; the coded message and the keyword &mdash; then work towards a solution from there."
   ]
  },
  {
   "cell_type": "markdown",
   "metadata": {},
   "source": [
    "Stuck? Open this cell to view Hints: \n",
    "\n",
    "<span hidden>\n",
    "Like before, you'll only want to shift characters that are in the alphabet. Your keyword phrase should ignore any spaces and punctuation in the original message.\n",
    "\n",
    "For example, given the message\n",
    "\n",
    "  ciphers are awesome!\n",
    "\n",
    "and the keyword\n",
    "\n",
    "  cat\n",
    "\n",
    "the keyword phrase would be:\n",
    "\n",
    "  catcatc atc atcatca\n",
    "\n",
    "and the encoded string would be:\n",
    "\n",
    "  aiwfeyq ayc adcsvke!\n",
    "</span>"
   ]
  },
  {
   "cell_type": "code",
   "execution_count": 123,
   "metadata": {},
   "outputs": [
    {
     "name": "stdout",
     "output_type": "stream",
     "text": [
      "you were able to decode this? nice work! you are becoming quite the expert at crytography!\n"
     ]
    }
   ],
   "source": [
    "# Save the values Vishal sent us to variables\n",
    "vig_message = 'txm srom vkda gl lzlgzr qpdb? fepb ejac! ubr imn tapludwy mhfbz cza ruxzal wg zztcgcexxch!'\n",
    "vig_keyword = 'friends'\n",
    "\n",
    "def vig_decode(message, key):\n",
    "    decrypted_message = ''\n",
    "    extended_key = ''\n",
    "\n",
    "    key_index = 0\n",
    "    message_index = 0\n",
    "\n",
    "    # Extend the key to match the length of the message\n",
    "    while message_index < len(message):\n",
    "        if message[message_index] in excluded_characters:\n",
    "            extended_key += ' '\n",
    "            message_index += 1\n",
    "        else:\n",
    "            extended_key += key[key_index % len(key)]\n",
    "            message_index += 1\n",
    "            key_index += 1\n",
    "\n",
    "    # Decrypt the message\n",
    "    for i in range(len(message)):\n",
    "        if message[i] in excluded_characters:\n",
    "            decrypted_message += message[i]\n",
    "        else:\n",
    "            lookup_index = alphabet.index(message[i]) + alphabet.index(extended_key[i])\n",
    "            if lookup_index > len(alphabet) - 1: # If the lookup is greater than the length of the alphabet, start over from the beginning\n",
    "                lookup_index -= len(alphabet)\n",
    "            decrypted_message += alphabet[lookup_index]\n",
    "    return decrypted_message\n",
    "\n",
    "print(vig_decode(vig_message, vig_keyword))\n"
   ]
  },
  {
   "cell_type": "markdown",
   "metadata": {
    "collapsed": true
   },
   "source": [
    "#### Step 6: Send a message with the  Vigenère Cipher\n",
    "Great work decoding the message. For your final task, write a function that can encode a message using a given keyword and write out a message to send to Vishal!\n",
    "\n",
    "*As a bonus, try calling your decoder function on the result of your encryption function. You should get the original message back!*"
   ]
  },
  {
   "cell_type": "code",
   "execution_count": 125,
   "metadata": {},
   "outputs": [
    {
     "name": "stdout",
     "output_type": "stream",
     "text": [
      "snjwcz! fgkbn hblyrnb zhhd jnoauuskuh hbegkm vq zwhrub, tbf h njew iqdt jkdl fn uenjjalk cqwt ihzq faae ztm lgwukuc ja.\n",
      "thanks! these puzzles have definitely pushed my skills, but i have been able to overcome them with wits and copilot ai.\n"
     ]
    }
   ],
   "source": [
    "# Save the values Vishal sent us to variables\n",
    "my_vig_message = 'thanks! these puzzles have definitely pushed my skills, but i have been able to overcome them with wits and copilot ai.'\n",
    "my_vig_keyword = 'burrito'\n",
    "\n",
    "def vig_encode(message, key):\n",
    "    encrypted_message = ''\n",
    "    extended_key = ''\n",
    "\n",
    "    key_index = 0\n",
    "    message_index = 0\n",
    "\n",
    "    # Extend the key to match the length of the message\n",
    "    while message_index < len(message):\n",
    "        if message[message_index] in excluded_characters:\n",
    "            extended_key += ' '\n",
    "            message_index += 1\n",
    "        else:\n",
    "            extended_key += key[key_index % len(key)]\n",
    "            message_index += 1\n",
    "            key_index += 1\n",
    "\n",
    "    # Encrypt the message\n",
    "    for i in range(len(message)):\n",
    "        if message[i] in excluded_characters:\n",
    "            encrypted_message += message[i]\n",
    "        else:\n",
    "            lookup_index = alphabet.index(message[i]) - alphabet.index(extended_key[i])\n",
    "            if lookup_index < 0: # If the lookup is greater than the length of the alphabet, start over from the beginning\n",
    "                lookup_index += len(alphabet)\n",
    "            encrypted_message += alphabet[lookup_index]\n",
    "    return encrypted_message\n",
    "\n",
    "vig_encoded_message = vig_encode(my_vig_message, my_vig_keyword)\n",
    "print(vig_encoded_message)\n",
    "print(vig_decode(vig_encoded_message, my_vig_keyword))"
   ]
  },
  {
   "cell_type": "markdown",
   "metadata": {},
   "source": [
    "#### Conclusion\n",
    "Over the course of this project you've learned about two different cipher methods and have used your Python skills to code and decode messages. There are all types of other facinating ciphers out there to explore, and Python is the perfect language to implement them with, so go exploring! "
   ]
  }
 ],
 "metadata": {
  "kernelspec": {
   "display_name": ".env",
   "language": "python",
   "name": "python3"
  },
  "language_info": {
   "codemirror_mode": {
    "name": "ipython",
    "version": 3
   },
   "file_extension": ".py",
   "mimetype": "text/x-python",
   "name": "python",
   "nbconvert_exporter": "python",
   "pygments_lexer": "ipython3",
   "version": "3.14.0a3"
  }
 },
 "nbformat": 4,
 "nbformat_minor": 2
}
