{
 "cells": [
  {
   "cell_type": "markdown",
   "metadata": {},
   "source": [
    "### Sal's Shipping\n",
    "Sal runs the biggest shipping company in the tri-county area, Sal’s Shippers. Sal wants to make sure that every single one of his customers has the best, and most affordable experience shipping their packages.\n",
    "\n",
    "In this project, you’ll build a program that will take the weight of a package and determine the cheapest way to ship that package using Sal’s Shippers.\n",
    "\n",
    "Sal’s Shippers has several different options for a customer to ship their package:\n",
    "\n",
    "- Ground Shipping, which is a small flat charge plus a rate based on the weight of your package.\n",
    "- Ground Shipping Premium, which is a much higher flat charge, but you aren’t charged for weight.\n",
    "- Drone Shipping (new), which has no flat charge, but the rate based on weight is triple the rate of ground shipping.\n",
    "Here are the prices:\n",
    "\n",
    "Ground Shipping\n",
    "Weight of Package  Price per Pound,\tFlat Charge\n",
    "2 lb or less\t$1.50\t$20.00\n",
    "Over 2 lb but less than or equal to 6 lb\t$3.00\t$20.00\n",
    "Over 6 lb but less than or equal to 10 lb\t$4.00\t$20.00\n",
    "Over 10 lb\t$4.75\t$20.00\n",
    "\n",
    "Ground Shipping Premium\n",
    "\n",
    "Flat charge: $125.00\n",
    "\n",
    "Drone Shipping\n",
    "\n",
    "Weight of Package\tPrice per Pound\tFlat Charge\n",
    "2 lb or less\t$4.50\t$0.00\n",
    "Over 2 lb but less than or equal to 6 lb\t$9.00\t$0.00\n",
    "Over 6 lb but less than or equal to 10 lb\t$12.00\t$0.00\n",
    "Over 10 lb\t$14.25\t$0.00\n",
    "\n",
    "Write a shipping.py Python program that asks the user for the weight of their package and then tells them which method of shipping is cheapest and how much it will cost to ship their package using Sal’s Shippers.\n",
    "\n",
    "Note that the walkthrough video for this project is slightly out of date — the walkthrough was done using a version of this project that uses functions. Feel free to come back to the video after having been introduced to functions!\n",
    "\n"
   ]
  },
  {
   "cell_type": "markdown",
   "metadata": {},
   "source": [
    "First things first, define a weight variable and set it equal to any number."
   ]
  },
  {
   "cell_type": "code",
   "execution_count": 13,
   "metadata": {},
   "outputs": [],
   "source": [
    "weight = 8.4"
   ]
  },
  {
   "cell_type": "markdown",
   "metadata": {},
   "source": [
    "Next, we need to know how much it costs to ship a package of given weight by normal ground shipping based on the “Ground shipping” table above.\n",
    "\n",
    "Write a comment that says “Ground Shipping”.\n",
    "\n",
    "Create an if/elif/else statement for the cost of ground shipping. It should check for weight, and print the cost of shipping a package of that weight."
   ]
  },
  {
   "cell_type": "code",
   "execution_count": 14,
   "metadata": {},
   "outputs": [
    {
     "name": "stdout",
     "output_type": "stream",
     "text": [
      "Price per pound: $4.0\n",
      "Total cost (ppp * weight + flat fee): $53.6\n"
     ]
    }
   ],
   "source": [
    "# Ground shipping\n",
    "ground_shipping = {\n",
    "    \"2 lb or less\": {\"price_per_pound\": 1.50, \"flat_charge\": 20.00},\n",
    "    \"Over 2 lb but less than or equal to 6 lb\": {\"price_per_pound\": 3.00, \"flat_charge\": 20.00},\n",
    "    \"Over 6 lb but less than or equal to 10 lb\": {\"price_per_pound\": 4.00, \"flat_charge\": 20.00},\n",
    "    \"Over 10 lb\": {\"price_per_pound\": 4.75, \"flat_charge\": 20.00}\n",
    "}\n",
    "\n",
    "def get_ground_shipping_cost(weight):\n",
    "    if weight <= 2:\n",
    "        return ground_shipping[\"2 lb or less\"]\n",
    "    elif weight <= 6:\n",
    "        return ground_shipping[\"Over 2 lb but less than or equal to 6 lb\"]\n",
    "    elif weight <= 10:\n",
    "        return ground_shipping[\"Over 6 lb but less than or equal to 10 lb\"]\n",
    "    else:\n",
    "        return ground_shipping[\"Over 10 lb\"]\n",
    "    \n",
    "# Now calculate values\n",
    "ground_shipping_cost = get_ground_shipping_cost(weight)\n",
    "print(f\"Price per pound: ${ground_shipping_cost['price_per_pound']}\")\n",
    "print(f\"Total cost, ground shipping (ppp * weight + flat fee): ${(ground_shipping_cost['price_per_pound'] * weight) + ground_shipping_cost['flat_charge']}\")"
   ]
  },
  {
   "cell_type": "markdown",
   "metadata": {},
   "source": [
    "We’ll also need to make sure we include the price of premium ground shipping in our code.\n",
    "\n",
    "Create a variable for the cost of premium ground shipping.\n",
    "\n",
    "Note: This does not need to be an if statement because the price of premium ground shipping does not change with the weight of the package."
   ]
  },
  {
   "cell_type": "code",
   "execution_count": 15,
   "metadata": {},
   "outputs": [
    {
     "name": "stdout",
     "output_type": "stream",
     "text": [
      "Premium ground shipping cost: $125.0\n"
     ]
    }
   ],
   "source": [
    "# Premium ground shipping\n",
    "premium_ground_shipping = 125.00\n",
    "print(f\"Premium ground shipping cost: ${premium_ground_shipping}\")"
   ]
  },
  {
   "cell_type": "markdown",
   "metadata": {},
   "source": [
    "Write a comment for this section of the code, “Drone Shipping”.\n",
    "\n",
    "Create an if/elif/else statement for the cost of drone shipping. This statement should check against weight and print the cost of shipping a package of that weight."
   ]
  },
  {
   "cell_type": "code",
   "execution_count": 16,
   "metadata": {},
   "outputs": [
    {
     "name": "stdout",
     "output_type": "stream",
     "text": [
      "Price per pound: $12.0\n",
      "Total cost (ppp * weight + flat fee): $100.80000000000001\n"
     ]
    }
   ],
   "source": [
    "# Drone shipping\n",
    "drone_shipping = {\n",
    "    \"2 lb or less\": {\"price_per_pound\": 4.50, \"flat_charge\": 0.00},\n",
    "    \"Over 2 lb but less than or equal to 6 lb\": {\"price_per_pound\": 9.00, \"flat_charge\": 0.00},\n",
    "    \"Over 6 lb but less than or equal to 10 lb\": {\"price_per_pound\": 12.00, \"flat_charge\": 0.00},\n",
    "    \"Over 10 lb\": {\"price_per_pound\": 14.25, \"flat_charge\": 0.00}\n",
    "}\n",
    "\n",
    "def get_drone_shipping_price(weight):\n",
    "    if weight <= 2:\n",
    "        return drone_shipping[\"2 lb or less\"]\n",
    "    elif weight <= 6:\n",
    "        return drone_shipping[\"Over 2 lb but less than or equal to 6 lb\"]\n",
    "    elif weight <= 10:\n",
    "        return drone_shipping[\"Over 6 lb but less than or equal to 10 lb\"]\n",
    "    else:\n",
    "        return drone_shipping[\"Over 10 lb\"]\n",
    "    \n",
    "drone_shiping_cost = get_drone_shipping_price(weight)\n",
    "print(f\"Price per pound: ${drone_shiping_cost['price_per_pound']}\")\n",
    "print(f\"Total cost, drone shipping (ppp * weight + flat fee): ${(drone_shiping_cost['price_per_pound'] * weight) + drone_shiping_cost['flat_charge']}\")"
   ]
  },
  {
   "cell_type": "markdown",
   "metadata": {},
   "source": [
    "Now identify which method is the cheapest at each price point"
   ]
  },
  {
   "cell_type": "code",
   "execution_count": 17,
   "metadata": {},
   "outputs": [
    {
     "name": "stdout",
     "output_type": "stream",
     "text": [
      "Ground shipping is the cheapest option.\n"
     ]
    }
   ],
   "source": [
    "# Now compare prices\n",
    "if ground_shipping_cost[\"price_per_pound\"] * weight + ground_shipping_cost[\"flat_charge\"] < premium_ground_shipping and ground_shipping_cost[\"price_per_pound\"] * weight + ground_shipping_cost[\"flat_charge\"] < drone_shiping_cost[\"price_per_pound\"] * weight + drone_shiping_cost[\"flat_charge\"]:\n",
    "    print(\"Ground shipping is the cheapest option.\")\n",
    "elif premium_ground_shipping < ground_shipping_cost[\"price_per_pound\"] * weight + ground_shipping_cost[\"flat_charge\"] and premium_ground_shipping < drone_shiping_cost[\"price_per_pound\"] * weight + drone_shiping_cost[\"flat_charge\"]:\n",
    "    print(\"Premium ground shipping is the cheapest option.\")\n",
    "elif drone_shiping_cost[\"price_per_pound\"] * weight + drone_shiping_cost[\"flat_charge\"] < ground_shipping_cost[\"price_per_pound\"] * weight + ground_shipping_cost[\"flat_charge\"] and drone_shiping_cost[\"price_per_pound\"] * weight + drone_shiping_cost[\"flat_charge\"] < premium_ground_shipping:\n",
    "    print(\"Drone shipping is the cheapest option.\")\n",
    "else:\n",
    "    print(\"There is a tie between the shipping options.\")"
   ]
  }
 ],
 "metadata": {
  "kernelspec": {
   "display_name": ".env",
   "language": "python",
   "name": "python3"
  },
  "language_info": {
   "codemirror_mode": {
    "name": "ipython",
    "version": 3
   },
   "file_extension": ".py",
   "mimetype": "text/x-python",
   "name": "python",
   "nbconvert_exporter": "python",
   "pygments_lexer": "ipython3",
   "version": "3.14.0"
  }
 },
 "nbformat": 4,
 "nbformat_minor": 2
}
