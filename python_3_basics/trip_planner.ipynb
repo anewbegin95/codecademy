{
 "cells": [
  {
   "cell_type": "markdown",
   "metadata": {},
   "source": [
    "Alright, this is it. We are going to use all of our knowledge of functions to build out TripPlanner V1.0.\n",
    "\n",
    "First, like in our previous exercises, we want to make sure to welcome our users to the application.\n",
    "\n",
    "Create a function called trip_planner_welcome() that takes one parameter called name. The function should use print() to output a message like this:\n",
    "\n",
    "`Welcome to tripplanner v1.0 <Name Here>`\n",
    "\n",
    "Where <Name Here> represents the parameter variable of name we defined.\n",
    "\n",
    "Call trip_planner_welcome(), passing your name as an argument."
   ]
  },
  {
   "cell_type": "code",
   "execution_count": 1,
   "metadata": {},
   "outputs": [],
   "source": [
    "def trip_planner_welcome(name):\n",
    "    print(f\"Welcome to tripplanner v1.0 {name}\")"
   ]
  },
  {
   "cell_type": "code",
   "execution_count": 2,
   "metadata": {},
   "outputs": [
    {
     "name": "stdout",
     "output_type": "stream",
     "text": [
      "Welcome to tripplanner v1.0 Alex Newbegin\n"
     ]
    }
   ],
   "source": [
    "trip_planner_welcome(\"Alex Newbegin\")"
   ]
  },
  {
   "cell_type": "markdown",
   "metadata": {},
   "source": [
    "Next, we are going to define a function called `estimated_time_rounded()` that will allow us to calculate a rounded time value based on a decimal for our user’s trip.\n",
    "\n",
    "An example call for this function will look like this:\n",
    "\n",
    "`estimated_time_rounded(2.5)`\n",
    "\n",
    "\n",
    "Where 2 represents 2 hours and .5 represents 30 minutes.\n",
    "\n",
    "Define the function `estimated_time_rounded()` with a single parameter estimated_time. The function should do two things:\n",
    "\n",
    "1. Create a variable called rounded_time that is the result of calling the `round()` built-in function on the parameter estimated_time.\n",
    "2. Return rounded_time.\n",
    "After the function definition, call `estimated_time_rounded()` with a decimal argument and save the result to a variable called estimate. Since this amount represents a time, be sure to use a positive number."
   ]
  },
  {
   "cell_type": "code",
   "execution_count": 3,
   "metadata": {},
   "outputs": [],
   "source": [
    "def estimated_time_rounded(time):\n",
    "    rounded_time = round(time)\n",
    "    return rounded_time"
   ]
  },
  {
   "cell_type": "code",
   "execution_count": 4,
   "metadata": {},
   "outputs": [
    {
     "name": "stdout",
     "output_type": "stream",
     "text": [
      "3\n"
     ]
    }
   ],
   "source": [
    "estimate = estimated_time_rounded(3.25)"
   ]
  },
  {
   "cell_type": "markdown",
   "metadata": {},
   "source": [
    "Next, we are going to generate messages for a user’s planned trip.\n",
    "\n",
    "Create a function called `destination_setup()` that will have four parameters in this exact order:\n",
    "\n",
    "1. `origin`\n",
    "2. `destination`\n",
    "3. `estimated_time`\n",
    "4. `mode_of_transport`\n",
    "Give the parameter `mode_of_transport` a default value of \"Car\". \n",
    "\n",
    "Next, we are going to write four `print()` statements in our function. The output on this function call should look like this:\n",
    "\n",
    "`Your trip starts off in <origin>`\n",
    "\n",
    "`And you are traveling to <destination>`\n",
    "\n",
    "`You will be traveling by <mode_of_transport>`\n",
    "\n",
    "`It will take approximately <estimated_time> hours`\n",
    "\n",
    "Each of these `print()` statements use a different parameter from our function `destination_setup()`.\n",
    "\n",
    "Note: The `estimated_time` parameter will come in the form of an integer. Make sure to use `str()` to convert the parameter in your print statement.\n",
    "\n",
    "After the function definition, call `destination_setup()` with the following arguments:\n",
    "\n",
    "- `origin` and `destination` should be string values representing the places you will travel from and to\n",
    "- Use the estimate you created earlier for estimated_time\n",
    "- If you will be traveling by a mode other than Car, be sure to overwrite the default value of mode_of_transport"
   ]
  },
  {
   "cell_type": "code",
   "execution_count": 7,
   "metadata": {},
   "outputs": [],
   "source": [
    "def destination_setup(origin, destination, estimated_time, mode_of_transport = \"Car\"):\n",
    "    print(f\"Your trip starts off in {origin}\")\n",
    "    print(f\"And you are traveling to {destination}\")\n",
    "    print(f\"You will be traveling by {mode_of_transport}\")\n",
    "    print(f\"It will take you approximately {estimated_time_rounded(estimated_time)} hours\")"
   ]
  },
  {
   "cell_type": "code",
   "execution_count": 8,
   "metadata": {},
   "outputs": [
    {
     "name": "stdout",
     "output_type": "stream",
     "text": [
      "Your trip starts off in New York\n",
      "And you are traveling to Syracuse\n",
      "You will be traveling by Taxi\n",
      "It will take you approximately 4 hours\n"
     ]
    }
   ],
   "source": [
    "destination_setup(\"New York\", \"Syracuse\", 4.3, \"Taxi\")"
   ]
  }
 ],
 "metadata": {
  "kernelspec": {
   "display_name": ".env",
   "language": "python",
   "name": "python3"
  },
  "language_info": {
   "codemirror_mode": {
    "name": "ipython",
    "version": 3
   },
   "file_extension": ".py",
   "mimetype": "text/x-python",
   "name": "python",
   "nbconvert_exporter": "python",
   "pygments_lexer": "ipython3",
   "version": "3.14.0"
  }
 },
 "nbformat": 4,
 "nbformat_minor": 2
}
