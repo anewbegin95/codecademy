{
 "cells": [
  {
   "cell_type": "markdown",
   "metadata": {},
   "source": [
    "# Scrabble\n",
    "In this project, you will process some data from a group of friends playing scrabble. You will use dictionaries to organize players, words, and points.\n",
    "\n",
    "There are many ways you can extend this project on your own if you finish and want to get more practice!"
   ]
  },
  {
   "cell_type": "markdown",
   "metadata": {},
   "source": [
    "## Build your Point Dictionary\n",
    "We have provided you with two lists, `letters` and `points`. We would like to combine these two into a dictionary that would map a letter to its point value.\n",
    "\n",
    "Using a list comprehension and `zip`, create a dictionary called `letter_to_points` that has the elements of `letters` as the keys and the elements of `points` as the values."
   ]
  },
  {
   "cell_type": "code",
   "execution_count": 27,
   "metadata": {},
   "outputs": [],
   "source": [
    "# Get all available letters and their points as two lists\n",
    "letters = [\"A\", \"B\", \"C\", \"D\", \"E\", \"F\", \"G\", \"H\", \"I\", \"J\", \"K\", \"L\", \"M\", \"N\", \"O\", \"P\", \"Q\", \"R\", \"S\", \"T\", \"U\", \"V\", \"W\", \"X\", \"Y\", \"Z\"]\n",
    "points = [1, 3, 3, 2, 1, 4, 2, 4, 1, 8, 5, 1, 3, 4, 1, 3, 10, 1, 1, 1, 1, 4, 4, 8, 4, 10]"
   ]
  },
  {
   "cell_type": "code",
   "execution_count": 28,
   "metadata": {},
   "outputs": [],
   "source": [
    "# Zip the two lists together into a letters_to_points dictionary\n",
    "letters_to_points = {key: value for key, value in zip(letters, points)}"
   ]
  },
  {
   "cell_type": "markdown",
   "metadata": {},
   "source": [
    "Our `letters` list did not take into account blank tiles. Add an element to the `letter_to_point`s dictionary that has a key of `\" \"` and a point value of `0`."
   ]
  },
  {
   "cell_type": "code",
   "execution_count": 29,
   "metadata": {},
   "outputs": [],
   "source": [
    "# Add a blank tile & point value to letters_to_points\n",
    "letters_to_points[\" \"] = 0"
   ]
  },
  {
   "cell_type": "markdown",
   "metadata": {},
   "source": [
    "## Score a Word\n",
    "We want to create a function that will take in a word and return how many points that word is worth.\n",
    "\n",
    "Define a function called `score_word` that takes in a parameter `word`. Inside `score_word`, create a variable called `point_total` and set it to 0. After defining `point_total`, create a for loop that goes through the letters in word and adds the point value of each letter to `point_total`.\n",
    "\n",
    "You should get the point value from the `letter_to_points` dictionary. If the letter you are checking for is not in `letter_to_points`, add 0 to the `point_total`. After the for loop is finished, return `point_total`."
   ]
  },
  {
   "cell_type": "code",
   "execution_count": 30,
   "metadata": {},
   "outputs": [],
   "source": [
    "def score_word(word):\n",
    "    point_total = 0\n",
    "    for letter in word:\n",
    "        point_total += letters_to_points.get(letter.upper(), 0)\n",
    "    return point_total"
   ]
  },
  {
   "cell_type": "markdown",
   "metadata": {},
   "source": [
    "Let’s test this function! Create a variable called `brownie_points` and set it equal to the value returned by the `score_word()` function with an input of `\"BROWNIE\"`."
   ]
  },
  {
   "cell_type": "code",
   "execution_count": 31,
   "metadata": {},
   "outputs": [
    {
     "name": "stdout",
     "output_type": "stream",
     "text": [
      "15\n"
     ]
    }
   ],
   "source": [
    "brownie_points = score_word(\"brownie\")\n",
    "print(brownie_points)"
   ]
  },
  {
   "cell_type": "markdown",
   "metadata": {},
   "source": [
    "## Score a Game\n",
    "Create a dictionary called `player_to_words` that maps players to a list of the words they have played. This table represents the data to transcribe into your dictionary:"
   ]
  },
  {
   "cell_type": "code",
   "execution_count": 32,
   "metadata": {},
   "outputs": [],
   "source": [
    "player_to_words = {\n",
    "    \"player1\": [\"BLUE\", \"TENNIS\", \"EXIT\"],\n",
    "    \"wordNerd\": [\"EARTH\", \"EYES\", \"MACHINE\"],\n",
    "    \"Lexi Con\": [\"ERASER\", \"BELLY\", \"HUSKY\"],\n",
    "    \"Prof Reader\": [\"ZAP\", \"COMA\", \"PERIOD\"]\n",
    "}"
   ]
  },
  {
   "cell_type": "code",
   "execution_count": 33,
   "metadata": {},
   "outputs": [
    {
     "name": "stdout",
     "output_type": "stream",
     "text": [
      "{'player1': ['BLUE', 'TENNIS', 'EXIT', 'ASBESTOS'], 'wordNerd': ['EARTH', 'EYES', 'MACHINE'], 'Lexi Con': ['ERASER', 'BELLY', 'HUSKY'], 'Prof Reader': ['ZAP', 'COMA', 'PERIOD']}\n"
     ]
    }
   ],
   "source": [
    "# Create a play_word function that takes a player and a word and adds the word to the list of words the player has played in player_to_words\n",
    "def play_word(player, word):\n",
    "    player_to_words[player].append(word.upper())\n",
    "\n",
    "play_word(\"player1\", \"asbestos\")\n",
    "print(player_to_words)"
   ]
  },
  {
   "cell_type": "markdown",
   "metadata": {},
   "source": [
    "Create an empty dictionary called `player_to_points`. Iterate through the items in `player_to_words`. Call each player player and each list of words `words`.\n",
    "\n",
    "Within your loop, create a variable called `player_points` and set it to 0. Within the loop, create another loop that goes through each word in `words` and adds the value of `score_word()` with `word` as an input. After the inner loop ends, set the current player value to be a key of `player_to_points`, with a value of `player_points`.\n",
    "\n",
    "`player_to_points` should now contain the mapping of players to how many points they’ve scored. Print this out to see the current standings for this game!\n",
    "\n",
    "If you’ve calculated correctly, wordNerd should be winning by 1 point."
   ]
  },
  {
   "cell_type": "code",
   "execution_count": 34,
   "metadata": {},
   "outputs": [
    {
     "name": "stdout",
     "output_type": "stream",
     "text": [
      "{'player1': 39, 'wordNerd': 32, 'Lexi Con': 31, 'Prof Reader': 31}\n"
     ]
    }
   ],
   "source": [
    "player_to_points = {}\n",
    "\n",
    "for player, words in player_to_words.items():\n",
    "    player_points = 0\n",
    "    for word in words:\n",
    "        player_points += score_word(word)\n",
    "    player_to_points[player] = player_points\n",
    "\n",
    "print(player_to_points)"
   ]
  },
  {
   "cell_type": "markdown",
   "metadata": {},
   "source": [
    "## Ideas for Further Practice!\n",
    "If you want extended practice, try to implement some of these ideas with the Python you’ve learned:\n",
    "\n",
    "- `play_word()` — a function that would take in a player and a word, and add that word to the list of words they’ve played\n",
    "- `update_point_totals()` — turn your nested loops into a function that you can call any time a word is played\n",
    "- make your `letter_to_points` dictionary able to handle lowercase inputs as well\n",
    "- Create a new dictionary called `letter_count` that has all the letters from the list as a key with a number representing the total number of letters in the bag as the value. Each time a word is played, for each letter in the word, reduce the count of letters "
   ]
  }
 ],
 "metadata": {
  "kernelspec": {
   "display_name": ".env",
   "language": "python",
   "name": "python3"
  },
  "language_info": {
   "codemirror_mode": {
    "name": "ipython",
    "version": 3
   },
   "file_extension": ".py",
   "mimetype": "text/x-python",
   "name": "python",
   "nbconvert_exporter": "python",
   "pygments_lexer": "ipython3",
   "version": "3.14.0"
  }
 },
 "nbformat": 4,
 "nbformat_minor": 2
}
