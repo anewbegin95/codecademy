{
 "cells": [
  {
   "cell_type": "markdown",
   "metadata": {},
   "source": [
    "# Getting Ready for Physics Class\n",
    "You are a physics teacher preparing for the upcoming semester. You want to provide your students with some functions that will help them calculate some fundamental physical properties."
   ]
  },
  {
   "cell_type": "markdown",
   "metadata": {},
   "source": [
    "## Temperature"
   ]
  },
  {
   "cell_type": "markdown",
   "metadata": {},
   "source": [
    "Write a function called f_to_c that takes an input f_temp, a temperature in Fahrenheit, and converts it to c_temp, that temperature in Celsius.\n",
    "\n",
    "It should then return c_temp.\n",
    "\n",
    "The equation you should use is:\n",
    "\n",
    "`Temp (C) = (Temp (F) - 32) * 5/9`"
   ]
  },
  {
   "cell_type": "code",
   "execution_count": 1,
   "metadata": {},
   "outputs": [],
   "source": [
    "def f_to_c(f_temp):\n",
    "    c_temp = (f_temp - 32) * (5/9)\n",
    "    return c_temp"
   ]
  },
  {
   "cell_type": "markdown",
   "metadata": {},
   "source": [
    "Let’s test your function with a value of 100 Fahrenheit.\n",
    "\n",
    "Define a variable `f100_in_celsius` and set it equal to the value of `f_to_c` with 100 as an input."
   ]
  },
  {
   "cell_type": "code",
   "execution_count": 2,
   "metadata": {},
   "outputs": [
    {
     "name": "stdout",
     "output_type": "stream",
     "text": [
      "37.77777777777778\n"
     ]
    }
   ],
   "source": [
    "f_100_in_celcius = f_to_c(100)\n",
    "print(f_100_in_celcius)"
   ]
  },
  {
   "cell_type": "markdown",
   "metadata": {},
   "source": [
    "Write a function called `c_to_f` that takes an input `c_temp`, a temperature in Celsius, and converts it to `f_temp`, that temperature in Fahrenheit.\n",
    "\n",
    "It should then return f_temp.\n",
    "\n",
    "The equation you should use is:\n",
    "`Temp (F) = Temp (C) * (9/5) + 32`\n"
   ]
  },
  {
   "cell_type": "code",
   "execution_count": 5,
   "metadata": {},
   "outputs": [],
   "source": [
    "def c_to_f(c_temp):\n",
    "    f_temp = (c_temp * (9/5)) + 32\n",
    "    return f_temp"
   ]
  },
  {
   "cell_type": "markdown",
   "metadata": {},
   "source": [
    "Let’s test your function with a value of 0 Celsius.\n",
    "\n",
    "Define a variable `c0_in_fahrenheit` and set it equal to the value of `c_to_f` with 0 as an input."
   ]
  },
  {
   "cell_type": "code",
   "execution_count": 6,
   "metadata": {},
   "outputs": [
    {
     "name": "stdout",
     "output_type": "stream",
     "text": [
      "32.0\n"
     ]
    }
   ],
   "source": [
    "c0_in_fahrenheit = c_to_f(0)\n",
    "print(c0_in_fahrenheit)"
   ]
  },
  {
   "cell_type": "markdown",
   "metadata": {},
   "source": [
    "## Use the Force\n"
   ]
  },
  {
   "cell_type": "markdown",
   "metadata": {},
   "source": [
    "Define a function called `get_force` that takes in mass and acceleration. It should return mass multiplied by acceleration."
   ]
  },
  {
   "cell_type": "code",
   "execution_count": 8,
   "metadata": {},
   "outputs": [],
   "source": [
    "def get_force(mass, acceleration):\n",
    "    return mass * acceleration"
   ]
  },
  {
   "cell_type": "markdown",
   "metadata": {},
   "source": [
    "Test `get_force` by calling it with the variables `train_mass` and `train_acceleration`.\n",
    "\n",
    "Save the result to a variable called train_force and print it out."
   ]
  },
  {
   "cell_type": "code",
   "execution_count": 11,
   "metadata": {},
   "outputs": [
    {
     "name": "stdout",
     "output_type": "stream",
     "text": [
      "The GE train supplies 226,800 Newtons of force.\n"
     ]
    }
   ],
   "source": [
    "train_mass = 22680\n",
    "train_acceleration = 10\n",
    "train_distance = 100\n",
    "\n",
    "train_force = get_force(train_mass, train_acceleration)\n",
    "print(f\"The GE train supplies {train_force:,} Newtons of force.\")"
   ]
  },
  {
   "cell_type": "markdown",
   "metadata": {},
   "source": [
    "Define a function called `get_energy` that takes in `mass` and `c`.\n",
    "\n",
    "`c` is a constant that is usually set to the speed of light, which is roughly 3 x 10^8. Set `c` to have a default value of `3*10**8`.\n",
    "\n",
    "`get_energy` should return mass multiplied by c squared."
   ]
  },
  {
   "cell_type": "code",
   "execution_count": 12,
   "metadata": {},
   "outputs": [],
   "source": [
    "def get_energy(mass, c=3*10**8):\n",
    "    return mass * (c ** 2)"
   ]
  },
  {
   "cell_type": "markdown",
   "metadata": {},
   "source": [
    "Test `get_energy` by using it on `bomb_mass`, with the default value of `c`. Save the result to a variable called `bomb_energy`."
   ]
  },
  {
   "cell_type": "code",
   "execution_count": 13,
   "metadata": {},
   "outputs": [
    {
     "name": "stdout",
     "output_type": "stream",
     "text": [
      "A 1kg bomb supplies 90,000,000,000,000,000 Joules.\n"
     ]
    }
   ],
   "source": [
    "bomb_mass = 1\n",
    "bomb_energy = get_energy(bomb_mass)\n",
    "\n",
    "print(f\"A {bomb_mass}kg bomb supplies {bomb_energy:,} Joules.\")"
   ]
  },
  {
   "cell_type": "markdown",
   "metadata": {},
   "source": [
    "## Do the Work\n"
   ]
  },
  {
   "cell_type": "markdown",
   "metadata": {},
   "source": [
    "Define a final function called `get_work` that takes in `mass`, `acceleration`, and `distance`.\n",
    "\n",
    "Work is defined as force multiplied by distance. First, get the `force` using `get_force`, then multiply that by `distance`. Return the result."
   ]
  },
  {
   "cell_type": "code",
   "execution_count": 14,
   "metadata": {},
   "outputs": [],
   "source": [
    "def get_work(mass, acceleration, distance):\n",
    "    force = get_force(mass, acceleration)\n",
    "    work = force * distance\n",
    "    return work"
   ]
  },
  {
   "cell_type": "markdown",
   "metadata": {},
   "source": [
    "Test `get_work` by using it on `train_mass`, `train_acceleration`, and `train_distance`. Save the result to a variable called `train_work`."
   ]
  },
  {
   "cell_type": "code",
   "execution_count": 15,
   "metadata": {},
   "outputs": [
    {
     "name": "stdout",
     "output_type": "stream",
     "text": [
      "The GE train does 22,680,000 Joules of work over 100 meters.\n"
     ]
    }
   ],
   "source": [
    "train_work = get_work(train_mass, train_acceleration, train_distance)\n",
    "print(f\"The GE train does {train_work:,} Joules of work over {train_distance} meters.\")"
   ]
  }
 ],
 "metadata": {
  "kernelspec": {
   "display_name": ".env",
   "language": "python",
   "name": "python3"
  },
  "language_info": {
   "codemirror_mode": {
    "name": "ipython",
    "version": 3
   },
   "file_extension": ".py",
   "mimetype": "text/x-python",
   "name": "python",
   "nbconvert_exporter": "python",
   "pygments_lexer": "ipython3",
   "version": "3.14.0a3"
  }
 },
 "nbformat": 4,
 "nbformat_minor": 2
}
